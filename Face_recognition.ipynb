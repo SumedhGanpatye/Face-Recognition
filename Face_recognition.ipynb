{
  "cells": [
    {
      "cell_type": "markdown",
      "metadata": {
        "id": "view-in-github",
        "colab_type": "text"
      },
      "source": [
        "<a href=\"https://colab.research.google.com/github/SumedhGanpatye/Face-Recognition/blob/main/Face_recognition.ipynb\" target=\"_parent\"><img src=\"https://colab.research.google.com/assets/colab-badge.svg\" alt=\"Open In Colab\"/></a>"
      ]
    },
    {
      "cell_type": "code",
      "execution_count": null,
      "metadata": {
        "id": "iIt7DRDcHwer"
      },
      "outputs": [],
      "source": [
        "import numpy as np\n",
        "import matplotlib.pyplot as plt\n",
        "from sklearn.model_selection import train_test_split\n",
        "import tensorflow as tf\n",
        "import torch\n",
        "import torch.nn as nn\n",
        "import torch.optim as optim\n",
        "from sklearn.datasets import fetch_olivetti_faces\n",
        "from torch.utils.data import Dataset , DataLoader\n",
        "from numpy.random import Generator, SFC64\n",
        "from torch.utils.data import Dataset , DataLoader\n"
      ]
    },
    {
      "cell_type": "code",
      "execution_count": null,
      "metadata": {
        "id": "mWAWFJl2H6U5"
      },
      "outputs": [],
      "source": [
        "device = torch.device(\"cuda:0\" if torch.cuda.is_available() else \"cpu\")"
      ]
    },
    {
      "cell_type": "code",
      "execution_count": null,
      "metadata": {
        "id": "GnHRMSZnIFnq"
      },
      "outputs": [],
      "source": [
        "class Net(nn.Module):\n",
        "    def __init__(self):\n",
        "        super(Net, self).__init__()\n",
        "        self.conv1 = nn.Conv2d(1,32,9)\n",
        "        self.pool = nn.MaxPool2d(2, 2)\n",
        "        self.conv2 = nn.Conv2d(32, 64, 9)\n",
        "        self.fc1 = nn.Linear(64 * 10 * 10, 120)\n",
        "        self.fc2 = nn.Linear(120, 84)\n",
        "        self.fc3 = nn.Linear(84, 16)\n",
        "    def forward(self, x,y):\n",
        "        x = self.pool(torch.relu(self.conv1(x)))\n",
        "        x = self.pool(torch.relu(self.conv2(x)))\n",
        "        x = x.view(-1, 64 * 10 * 10)#flatten\n",
        "        x = torch.relu(self.fc1(x))\n",
        "        x = torch.relu(self.fc2(x))\n",
        "        x = self.fc3(x)\n",
        "\n",
        "        y = self.pool(torch.relu(self.conv1(y)))\n",
        "        y = self.pool(torch.relu(self.conv2(y)))\n",
        "        y = y.view(-1, 64 * 10 * 10)#flatten\n",
        "        y = torch.relu(self.fc1(y))\n",
        "        y = torch.relu(self.fc2(y))\n",
        "        y = self.fc3(y)\n",
        "        return x,y\n",
        "\n",
        "net = Net()"
      ]
    },
    {
      "cell_type": "code",
      "execution_count": null,
      "metadata": {
        "id": "hUNl2ZgoMoqQ"
      },
      "outputs": [],
      "source": [
        "import torch.nn.functional as F\n",
        "\n",
        "class ContrastiveLoss(nn.Module):\n",
        "    def __init__(self, margin=3.0):\n",
        "        super(ContrastiveLoss, self).__init__()\n",
        "        self.margin = margin\n",
        "\n",
        "    def forward(self, output1, output2, label):\n",
        "        euclidean_distance = F.pairwise_distance(output1, output2)\n",
        "        loss_contrastive = torch.mean((1 - label) * torch.pow(euclidean_distance, 2) +\n",
        "                                      (label) * torch.pow(torch.clamp(self.margin - euclidean_distance, min=0.0), 2))\n",
        "        return loss_contrastive.to(device)"
      ]
    },
    {
      "cell_type": "code",
      "execution_count": null,
      "metadata": {
        "id": "hWRslCQ0NwdE"
      },
      "outputs": [],
      "source": [
        "# optimizer = optim.SGD(net.parameters(), lr=0.001, momentum=0.9)\n",
        "optimizer = torch.optim.Adam(net.parameters(), lr=0.001, betas=(0.91, 0.999))\n",
        "criterion = ContrastiveLoss()"
      ]
    },
    {
      "cell_type": "code",
      "source": [
        "\n",
        "class OlivettiFaces(Dataset):\n",
        "  def __init__(self, data_path='/content/Data'):\n",
        "    (self.data, self.target) = fetch_olivetti_faces(data_home=data_path, shuffle=False, download_if_missing=True, return_X_y=True)\n",
        "\n",
        "  def __len__(self):\n",
        "    return len(self.target)\n",
        "\n",
        "  def __getitem__(self, index):\n",
        "    if index%2 == 0:\n",
        "      idx = rng.integers(low=index-index%10, high=index-index%10+10)\n",
        "      img1 = self.data[idx].reshape(1,64,64)\n",
        "      img2 = self.data[index].reshape(1,64,64)\n",
        "      return (torch.from_numpy(img1), torch.from_numpy(img2), torch.tensor(0, dtype=torch.float32))\n",
        "    else:\n",
        "      idx = rng.integers(low=0, high=400)\n",
        "      while (idx >= index-index%10 and idx <= index-index%10+10):\n",
        "        idx = rng.integers(low=0, high=400)\n",
        "      img1 = self.data[idx].reshape(1,64,64)\n",
        "      img2 = self.data[index].reshape(1,64,64)\n",
        "      return (torch.from_numpy(img1), torch.from_numpy(img2), torch.tensor(1, dtype=torch.float32))"
      ],
      "metadata": {
        "id": "bKBgGApGRvhq"
      },
      "execution_count": null,
      "outputs": []
    },
    {
      "cell_type": "code",
      "source": [
        "rng=Generator(SFC64(12345))"
      ],
      "metadata": {
        "id": "EtJhi4-jSQNy"
      },
      "execution_count": null,
      "outputs": []
    },
    {
      "cell_type": "code",
      "execution_count": null,
      "metadata": {
        "id": "fsgw7M7vNQt8"
      },
      "outputs": [],
      "source": [
        "Data_loader = OlivettiFaces()  # tuple of image and target\n",
        "train_loader=torch.utils.data.DataLoader(Data_loader,batch_size = 32,shuffle=False)"
      ]
    },
    {
      "cell_type": "code",
      "execution_count": null,
      "metadata": {
        "id": "AhUUMPPaVey9"
      },
      "outputs": [],
      "source": [
        "net = net.to(device)"
      ]
    },
    {
      "cell_type": "code",
      "source": [
        "losses = []  # Initialize losses as an empty list\n",
        "num_epochs = 100\n",
        "\n",
        "for epoch in range(num_epochs):\n",
        "    for i, data in enumerate(train_loader, 0):\n",
        "        img1, img2, label = data\n",
        "        img1, img2, label = img1.to(device), img2.to(device), label.to(device)\n",
        "        output1, output2 = net(img1, img2)\n",
        "        output1 = output1.to(device)\n",
        "        output2 = output2.to(device)\n",
        "\n",
        "        loss = criterion(output1, output2, label)\n",
        "\n",
        "        optimizer.zero_grad()\n",
        "        loss.backward()\n",
        "        optimizer.step()\n",
        "        losses.append(loss.item())\n",
        "\n",
        "    if(epoch%10==0):\n",
        "      print(f\"Epoch {epoch + 1}, Loss: {loss}\")\n"
      ],
      "metadata": {
        "colab": {
          "base_uri": "https://localhost:8080/"
        },
        "id": "3k1AO3hfhXVx",
        "outputId": "ef7775ed-6337-4519-e369-f583076cfda9"
      },
      "execution_count": null,
      "outputs": [
        {
          "output_type": "stream",
          "name": "stdout",
          "text": [
            "Epoch 1, Loss: 2.475222110748291\n",
            "Epoch 11, Loss: 0.42002880573272705\n",
            "Epoch 21, Loss: 0.5194869041442871\n",
            "Epoch 31, Loss: 0.6178809404373169\n",
            "Epoch 41, Loss: 0.3210163116455078\n",
            "Epoch 51, Loss: 0.20785363018512726\n",
            "Epoch 61, Loss: 0.20153963565826416\n",
            "Epoch 71, Loss: 0.09808020293712616\n",
            "Epoch 81, Loss: 0.048890940845012665\n",
            "Epoch 91, Loss: 0.08757974952459335\n"
          ]
        }
      ]
    },
    {
      "cell_type": "code",
      "source": [
        "plt.plot(losses)\n",
        "plt.show()\n",
        "#100 epochs"
      ],
      "metadata": {
        "colab": {
          "base_uri": "https://localhost:8080/",
          "height": 430
        },
        "id": "cgFhOXLBlzp7",
        "outputId": "8e7de80f-eb15-440d-edeb-73329d9ee655"
      },
      "execution_count": null,
      "outputs": [
        {
          "output_type": "display_data",
          "data": {
            "text/plain": [
              "<Figure size 640x480 with 1 Axes>"
            ],
            "image/png": "[encoded data removed]"
          },
          "metadata": {}
        }
      ]
    },
    {
      "cell_type": "code",
      "source": [
        "test_loader=torch.utils.data.DataLoader(Data_loader,batch_size = 400,shuffle=True)"
      ],
      "metadata": {
        "id": "MOP_VaW8VODQ"
      },
      "execution_count": null,
      "outputs": []
    },
    {
      "cell_type": "code",
      "source": [
        "correct=0\n",
        "epoches=399\n",
        "for i,data in enumerate(test_loader,0):\n",
        "  img1, img2, label = data\n",
        "  img1, img2, label = img1.to(device), img2.to(device), label.to(device)\n",
        "\n",
        "for j in range(epoches):\n",
        "    image1=img1[j].unsqueeze(0)\n",
        "    image2=img2[j].unsqueeze(0)\n",
        "    output1, output2 = net(image1, image2)\n",
        "    output1 = output1.to(device)\n",
        "    output2 = output2.to(device)\n",
        "    loss=torch.sum(abs(output1-output2))\n",
        "    if(loss<3.0 and label[j]==0):\n",
        "      correct=correct+1\n",
        "    elif(loss>3.0 and label[j]==1):\n",
        "      correct=correct+1\n"
      ],
      "metadata": {
        "id": "ad7OpknVisyY"
      },
      "execution_count": null,
      "outputs": []
    },
    {
      "cell_type": "code",
      "source": [
        "print(correct*100/epoches)"
      ],
      "metadata": {
        "colab": {
          "base_uri": "https://localhost:8080/"
        },
        "id": "t-qZQEFSwB2f",
        "outputId": "fba3f223-7a85-45cf-a145-c1cff1ab2a01"
      },
      "execution_count": null,
      "outputs": [
        {
          "output_type": "stream",
          "name": "stdout",
          "text": [
            "99.49874686716792\n"
          ]
        }
      ]
    }
  ],
  "metadata": {
    "colab": {
      "provenance": [],
      "authorship_tag": "ABX9TyNEV+qXHDvN37fI0JwKfEQK",
      "include_colab_link": true
    },
    "kernelspec": {
      "display_name": "Python 3",
      "name": "python3"
    },
    "language_info": {
      "name": "python"
    }
  },
  "nbformat": 4,
  "nbformat_minor": 0
}